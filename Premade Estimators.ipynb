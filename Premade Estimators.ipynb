{
 "cells": [
  {
   "cell_type": "code",
   "execution_count": 1,
   "metadata": {},
   "outputs": [],
   "source": [
    "import tensorflow as tf\n",
    "import pandas as pd"
   ]
  },
  {
   "cell_type": "code",
   "execution_count": 2,
   "metadata": {},
   "outputs": [],
   "source": [
    "CSV_COLUMN_NAMES = ['SepalLength', 'SepalWidth', 'PetalLength', 'PetalWidth', 'Species']\n",
    "SPECIES = ['Setosa', 'Versicolor', 'Virginica']"
   ]
  },
  {
   "cell_type": "code",
   "execution_count": 3,
   "metadata": {},
   "outputs": [
    {
     "name": "stdout",
     "output_type": "stream",
     "text": [
      "Downloading data from https://storage.googleapis.com/download.tensorflow.org/data/iris_training.csv\n",
      "8192/2194 [================================================================================================================] - 0s 0us/step\n",
      "Downloading data from https://storage.googleapis.com/download.tensorflow.org/data/iris_test.csv\n",
      "8192/573 [============================================================================================================================================================================================================================================================================================================================================================================================================================================] - 0s 0us/step\n"
     ]
    }
   ],
   "source": [
    "train_path = tf.keras.utils.get_file(\n",
    "    \"iris_training.csv\", \"https://storage.googleapis.com/download.tensorflow.org/data/iris_training.csv\")\n",
    "test_path = tf.keras.utils.get_file(\n",
    "    \"iris_test.csv\", \"https://storage.googleapis.com/download.tensorflow.org/data/iris_test.csv\")\n",
    "\n",
    "train = pd.read_csv(train_path, names=CSV_COLUMN_NAMES, header=0)\n",
    "test = pd.read_csv(test_path, names=CSV_COLUMN_NAMES, header=0)"
   ]
  },
  {
   "cell_type": "code",
   "execution_count": 4,
   "metadata": {},
   "outputs": [
    {
     "data": {
      "text/html": [
       "<div>\n",
       "<style scoped>\n",
       "    .dataframe tbody tr th:only-of-type {\n",
       "        vertical-align: middle;\n",
       "    }\n",
       "\n",
       "    .dataframe tbody tr th {\n",
       "        vertical-align: top;\n",
       "    }\n",
       "\n",
       "    .dataframe thead th {\n",
       "        text-align: right;\n",
       "    }\n",
       "</style>\n",
       "<table border=\"1\" class=\"dataframe\">\n",
       "  <thead>\n",
       "    <tr style=\"text-align: right;\">\n",
       "      <th></th>\n",
       "      <th>SepalLength</th>\n",
       "      <th>SepalWidth</th>\n",
       "      <th>PetalLength</th>\n",
       "      <th>PetalWidth</th>\n",
       "    </tr>\n",
       "  </thead>\n",
       "  <tbody>\n",
       "    <tr>\n",
       "      <th>0</th>\n",
       "      <td>6.4</td>\n",
       "      <td>2.8</td>\n",
       "      <td>5.6</td>\n",
       "      <td>2.2</td>\n",
       "    </tr>\n",
       "    <tr>\n",
       "      <th>1</th>\n",
       "      <td>5.0</td>\n",
       "      <td>2.3</td>\n",
       "      <td>3.3</td>\n",
       "      <td>1.0</td>\n",
       "    </tr>\n",
       "    <tr>\n",
       "      <th>2</th>\n",
       "      <td>4.9</td>\n",
       "      <td>2.5</td>\n",
       "      <td>4.5</td>\n",
       "      <td>1.7</td>\n",
       "    </tr>\n",
       "    <tr>\n",
       "      <th>3</th>\n",
       "      <td>4.9</td>\n",
       "      <td>3.1</td>\n",
       "      <td>1.5</td>\n",
       "      <td>0.1</td>\n",
       "    </tr>\n",
       "    <tr>\n",
       "      <th>4</th>\n",
       "      <td>5.7</td>\n",
       "      <td>3.8</td>\n",
       "      <td>1.7</td>\n",
       "      <td>0.3</td>\n",
       "    </tr>\n",
       "  </tbody>\n",
       "</table>\n",
       "</div>"
      ],
      "text/plain": [
       "   SepalLength  SepalWidth  PetalLength  PetalWidth\n",
       "0          6.4         2.8          5.6         2.2\n",
       "1          5.0         2.3          3.3         1.0\n",
       "2          4.9         2.5          4.5         1.7\n",
       "3          4.9         3.1          1.5         0.1\n",
       "4          5.7         3.8          1.7         0.3"
      ]
     },
     "execution_count": 4,
     "metadata": {},
     "output_type": "execute_result"
    }
   ],
   "source": [
    "train_y = train.pop('Species')\n",
    "test_y = test.pop('Species')\n",
    "\n",
    "# The label column has now been removed from the features.\n",
    "train.head()"
   ]
  },
  {
   "cell_type": "code",
   "execution_count": 5,
   "metadata": {},
   "outputs": [],
   "source": [
    "def input_fn(features, labels, training=True, batch_size=256):\n",
    "    \"\"\"An input function for training or evaluating\"\"\"\n",
    "    # Convert the inputs to a Dataset.\n",
    "    dataset = tf.data.Dataset.from_tensor_slices((dict(features), labels))\n",
    "\n",
    "    # Shuffle and repeat if you are in training mode.\n",
    "    if training:\n",
    "        dataset = dataset.shuffle(1000).repeat()\n",
    "    \n",
    "    return dataset.batch(batch_size)\n"
   ]
  },
  {
   "cell_type": "code",
   "execution_count": 7,
   "metadata": {},
   "outputs": [],
   "source": [
    "# Feature columns describe how to use the input.\n",
    "my_feature_columns = []\n",
    "for key in train.keys():\n",
    "    my_feature_columns.append(tf.feature_column.numeric_column(key=key))"
   ]
  },
  {
   "cell_type": "code",
   "execution_count": 9,
   "metadata": {},
   "outputs": [
    {
     "name": "stdout",
     "output_type": "stream",
     "text": [
      "INFO:tensorflow:Using default config.\n",
      "WARNING:tensorflow:Using temporary folder as model directory: /tmp/tmpiqdd554i\n",
      "INFO:tensorflow:Using config: {'_model_dir': '/tmp/tmpiqdd554i', '_tf_random_seed': None, '_save_summary_steps': 100, '_save_checkpoints_steps': None, '_save_checkpoints_secs': 600, '_session_config': allow_soft_placement: true\n",
      "graph_options {\n",
      "  rewrite_options {\n",
      "    meta_optimizer_iterations: ONE\n",
      "  }\n",
      "}\n",
      ", '_keep_checkpoint_max': 5, '_keep_checkpoint_every_n_hours': 10000, '_log_step_count_steps': 100, '_train_distribute': None, '_device_fn': None, '_protocol': None, '_eval_distribute': None, '_experimental_distribute': None, '_experimental_max_worker_delay_secs': None, '_session_creation_timeout_secs': 7200, '_service': None, '_cluster_spec': ClusterSpec({}), '_task_type': 'worker', '_task_id': 0, '_global_id_in_cluster': 0, '_master': '', '_evaluation_master': '', '_is_chief': True, '_num_ps_replicas': 0, '_num_worker_replicas': 1}\n"
     ]
    }
   ],
   "source": [
    "# Build a DNN with 2 hidden layers with 30 and 10 hidden nodes each.\n",
    "classifier = tf.estimator.DNNClassifier(\n",
    "    feature_columns=my_feature_columns,\n",
    "    # Two hidden layers of 30 and 10 nodes respectively.\n",
    "    hidden_units=[30, 10],\n",
    "    # The model must choose between 3 classes.\n",
    "    n_classes=3)"
   ]
  },
  {
   "cell_type": "code",
   "execution_count": 10,
   "metadata": {},
   "outputs": [
    {
     "name": "stdout",
     "output_type": "stream",
     "text": [
      "WARNING:tensorflow:From /home/saeid/MyPythonEnvironment/TensorFolw2.1/lib/python3.8/site-packages/tensorflow/python/ops/resource_variable_ops.py:1659: calling BaseResourceVariable.__init__ (from tensorflow.python.ops.resource_variable_ops) with constraint is deprecated and will be removed in a future version.\n",
      "Instructions for updating:\n",
      "If using Keras pass *_constraint arguments to layers.\n",
      "WARNING:tensorflow:From /home/saeid/MyPythonEnvironment/TensorFolw2.1/lib/python3.8/site-packages/tensorflow/python/training/training_util.py:235: Variable.initialized_value (from tensorflow.python.ops.variables) is deprecated and will be removed in a future version.\n",
      "Instructions for updating:\n",
      "Use Variable.read_value. Variables in 2.X are initialized automatically both in eager and graph (inside tf.defun) contexts.\n",
      "INFO:tensorflow:Calling model_fn.\n",
      "WARNING:tensorflow:Layer dnn is casting an input tensor from dtype float64 to the layer's dtype of float32, which is new behavior in TensorFlow 2.  The layer has dtype float32 because it's dtype defaults to floatx.\n",
      "\n",
      "If you intended to run this layer in float32, you can safely ignore this warning. If in doubt, this warning is likely only an issue if you are porting a TensorFlow 1.X model to TensorFlow 2.\n",
      "\n",
      "To change all layers to have dtype float64 by default, call `tf.keras.backend.set_floatx('float64')`. To change just this layer, pass dtype='float64' to the layer constructor. If you are the author of this layer, you can disable autocasting by passing autocast=False to the base Layer constructor.\n",
      "\n",
      "WARNING:tensorflow:From /home/saeid/MyPythonEnvironment/TensorFolw2.1/lib/python3.8/site-packages/tensorflow/python/keras/optimizer_v2/adagrad.py:105: calling Constant.__init__ (from tensorflow.python.ops.init_ops) with dtype is deprecated and will be removed in a future version.\n",
      "Instructions for updating:\n",
      "Call initializer instance with the dtype argument instead of passing it to the constructor\n",
      "INFO:tensorflow:Done calling model_fn.\n",
      "INFO:tensorflow:Create CheckpointSaverHook.\n",
      "INFO:tensorflow:Graph was finalized.\n",
      "INFO:tensorflow:Running local_init_op.\n",
      "INFO:tensorflow:Done running local_init_op.\n",
      "INFO:tensorflow:Calling checkpoint listeners before saving checkpoint 0...\n",
      "INFO:tensorflow:Saving checkpoints for 0 into /tmp/tmpiqdd554i/model.ckpt.\n",
      "INFO:tensorflow:Calling checkpoint listeners after saving checkpoint 0...\n",
      "INFO:tensorflow:loss = 1.3292092, step = 0\n",
      "INFO:tensorflow:global_step/sec: 461.814\n",
      "INFO:tensorflow:loss = 1.0490083, step = 100 (0.216 sec)\n",
      "INFO:tensorflow:global_step/sec: 662.358\n",
      "INFO:tensorflow:loss = 0.9728511, step = 200 (0.151 sec)\n",
      "INFO:tensorflow:global_step/sec: 716.636\n",
      "INFO:tensorflow:loss = 0.9228462, step = 300 (0.139 sec)\n",
      "INFO:tensorflow:global_step/sec: 726.5\n",
      "INFO:tensorflow:loss = 0.89486116, step = 400 (0.138 sec)\n",
      "INFO:tensorflow:global_step/sec: 736.81\n",
      "INFO:tensorflow:loss = 0.85423005, step = 500 (0.136 sec)\n",
      "INFO:tensorflow:global_step/sec: 733.588\n",
      "INFO:tensorflow:loss = 0.82143545, step = 600 (0.136 sec)\n",
      "INFO:tensorflow:global_step/sec: 728.966\n",
      "INFO:tensorflow:loss = 0.81270957, step = 700 (0.137 sec)\n",
      "INFO:tensorflow:global_step/sec: 721.287\n",
      "INFO:tensorflow:loss = 0.77291304, step = 800 (0.139 sec)\n",
      "INFO:tensorflow:global_step/sec: 738.795\n",
      "INFO:tensorflow:loss = 0.7607552, step = 900 (0.135 sec)\n",
      "INFO:tensorflow:global_step/sec: 601.24\n",
      "INFO:tensorflow:loss = 0.74414265, step = 1000 (0.167 sec)\n",
      "INFO:tensorflow:global_step/sec: 696.998\n",
      "INFO:tensorflow:loss = 0.7214335, step = 1100 (0.143 sec)\n",
      "INFO:tensorflow:global_step/sec: 631.455\n",
      "INFO:tensorflow:loss = 0.7129459, step = 1200 (0.158 sec)\n",
      "INFO:tensorflow:global_step/sec: 650.267\n",
      "INFO:tensorflow:loss = 0.69156724, step = 1300 (0.154 sec)\n",
      "INFO:tensorflow:global_step/sec: 671.108\n",
      "INFO:tensorflow:loss = 0.6721766, step = 1400 (0.149 sec)\n",
      "INFO:tensorflow:global_step/sec: 670.424\n",
      "INFO:tensorflow:loss = 0.6718773, step = 1500 (0.149 sec)\n",
      "INFO:tensorflow:global_step/sec: 739.348\n",
      "INFO:tensorflow:loss = 0.6541923, step = 1600 (0.135 sec)\n",
      "INFO:tensorflow:global_step/sec: 722.39\n",
      "INFO:tensorflow:loss = 0.65867776, step = 1700 (0.138 sec)\n",
      "INFO:tensorflow:global_step/sec: 721.896\n",
      "INFO:tensorflow:loss = 0.6334272, step = 1800 (0.139 sec)\n",
      "INFO:tensorflow:global_step/sec: 723.254\n",
      "INFO:tensorflow:loss = 0.6230041, step = 1900 (0.138 sec)\n",
      "INFO:tensorflow:global_step/sec: 661.93\n",
      "INFO:tensorflow:loss = 0.60508054, step = 2000 (0.152 sec)\n",
      "INFO:tensorflow:global_step/sec: 716.255\n",
      "INFO:tensorflow:loss = 0.61746454, step = 2100 (0.139 sec)\n",
      "INFO:tensorflow:global_step/sec: 683.103\n",
      "INFO:tensorflow:loss = 0.6397803, step = 2200 (0.146 sec)\n",
      "INFO:tensorflow:global_step/sec: 668.786\n",
      "INFO:tensorflow:loss = 0.6086668, step = 2300 (0.150 sec)\n",
      "INFO:tensorflow:global_step/sec: 680.309\n",
      "INFO:tensorflow:loss = 0.59680367, step = 2400 (0.146 sec)\n",
      "INFO:tensorflow:global_step/sec: 719.73\n",
      "INFO:tensorflow:loss = 0.58354974, step = 2500 (0.139 sec)\n",
      "INFO:tensorflow:global_step/sec: 722.603\n",
      "INFO:tensorflow:loss = 0.58566606, step = 2600 (0.138 sec)\n",
      "INFO:tensorflow:global_step/sec: 729.858\n",
      "INFO:tensorflow:loss = 0.5905208, step = 2700 (0.137 sec)\n",
      "INFO:tensorflow:global_step/sec: 734.513\n",
      "INFO:tensorflow:loss = 0.5722475, step = 2800 (0.136 sec)\n",
      "INFO:tensorflow:global_step/sec: 723.79\n",
      "INFO:tensorflow:loss = 0.5749151, step = 2900 (0.138 sec)\n",
      "INFO:tensorflow:global_step/sec: 732.985\n",
      "INFO:tensorflow:loss = 0.5716325, step = 3000 (0.136 sec)\n",
      "INFO:tensorflow:global_step/sec: 706.639\n",
      "INFO:tensorflow:loss = 0.55180216, step = 3100 (0.142 sec)\n",
      "INFO:tensorflow:global_step/sec: 662.532\n",
      "INFO:tensorflow:loss = 0.575272, step = 3200 (0.151 sec)\n",
      "INFO:tensorflow:global_step/sec: 710.628\n",
      "INFO:tensorflow:loss = 0.5631219, step = 3300 (0.140 sec)\n",
      "INFO:tensorflow:global_step/sec: 686.673\n",
      "INFO:tensorflow:loss = 0.557279, step = 3400 (0.146 sec)\n",
      "INFO:tensorflow:global_step/sec: 661.216\n",
      "INFO:tensorflow:loss = 0.5503197, step = 3500 (0.151 sec)\n",
      "INFO:tensorflow:global_step/sec: 698.077\n",
      "INFO:tensorflow:loss = 0.54723364, step = 3600 (0.143 sec)\n",
      "INFO:tensorflow:global_step/sec: 666.945\n",
      "INFO:tensorflow:loss = 0.5407322, step = 3700 (0.150 sec)\n",
      "INFO:tensorflow:global_step/sec: 683.128\n",
      "INFO:tensorflow:loss = 0.55976856, step = 3800 (0.147 sec)\n",
      "INFO:tensorflow:global_step/sec: 664.607\n",
      "INFO:tensorflow:loss = 0.5396886, step = 3900 (0.150 sec)\n",
      "INFO:tensorflow:global_step/sec: 669.229\n",
      "INFO:tensorflow:loss = 0.51853895, step = 4000 (0.150 sec)\n",
      "INFO:tensorflow:global_step/sec: 677.988\n",
      "INFO:tensorflow:loss = 0.5299038, step = 4100 (0.148 sec)\n",
      "INFO:tensorflow:global_step/sec: 676.649\n",
      "INFO:tensorflow:loss = 0.5322975, step = 4200 (0.148 sec)\n",
      "INFO:tensorflow:global_step/sec: 707.485\n",
      "INFO:tensorflow:loss = 0.52118, step = 4300 (0.141 sec)\n",
      "INFO:tensorflow:global_step/sec: 744.448\n",
      "INFO:tensorflow:loss = 0.529661, step = 4400 (0.134 sec)\n",
      "INFO:tensorflow:global_step/sec: 750.144\n",
      "INFO:tensorflow:loss = 0.51969177, step = 4500 (0.133 sec)\n",
      "INFO:tensorflow:global_step/sec: 745.669\n",
      "INFO:tensorflow:loss = 0.51873, step = 4600 (0.134 sec)\n",
      "INFO:tensorflow:global_step/sec: 750.618\n",
      "INFO:tensorflow:loss = 0.51489854, step = 4700 (0.133 sec)\n",
      "INFO:tensorflow:global_step/sec: 711.018\n",
      "INFO:tensorflow:loss = 0.5118214, step = 4800 (0.141 sec)\n",
      "INFO:tensorflow:global_step/sec: 714.725\n",
      "INFO:tensorflow:loss = 0.50132656, step = 4900 (0.140 sec)\n",
      "INFO:tensorflow:Calling checkpoint listeners before saving checkpoint 5000...\n",
      "INFO:tensorflow:Saving checkpoints for 5000 into /tmp/tmpiqdd554i/model.ckpt.\n",
      "INFO:tensorflow:Calling checkpoint listeners after saving checkpoint 5000...\n",
      "INFO:tensorflow:Loss for final step: 0.5037243.\n"
     ]
    },
    {
     "data": {
      "text/plain": [
       "<tensorflow_estimator.python.estimator.canned.dnn.DNNClassifierV2 at 0x7f645432b8b0>"
      ]
     },
     "execution_count": 10,
     "metadata": {},
     "output_type": "execute_result"
    }
   ],
   "source": [
    "# Train the Model.\n",
    "classifier.train(\n",
    "    input_fn=lambda: input_fn(train, train_y, training=True),\n",
    "    steps=5000)"
   ]
  },
  {
   "cell_type": "code",
   "execution_count": 11,
   "metadata": {},
   "outputs": [
    {
     "name": "stdout",
     "output_type": "stream",
     "text": [
      "INFO:tensorflow:Calling model_fn.\n",
      "WARNING:tensorflow:Layer dnn is casting an input tensor from dtype float64 to the layer's dtype of float32, which is new behavior in TensorFlow 2.  The layer has dtype float32 because it's dtype defaults to floatx.\n",
      "\n",
      "If you intended to run this layer in float32, you can safely ignore this warning. If in doubt, this warning is likely only an issue if you are porting a TensorFlow 1.X model to TensorFlow 2.\n",
      "\n",
      "To change all layers to have dtype float64 by default, call `tf.keras.backend.set_floatx('float64')`. To change just this layer, pass dtype='float64' to the layer constructor. If you are the author of this layer, you can disable autocasting by passing autocast=False to the base Layer constructor.\n",
      "\n",
      "INFO:tensorflow:Done calling model_fn.\n",
      "INFO:tensorflow:Starting evaluation at 2020-06-08T13:43:53Z\n",
      "INFO:tensorflow:Graph was finalized.\n",
      "INFO:tensorflow:Restoring parameters from /tmp/tmpiqdd554i/model.ckpt-5000\n",
      "INFO:tensorflow:Running local_init_op.\n",
      "INFO:tensorflow:Done running local_init_op.\n",
      "INFO:tensorflow:Inference Time : 0.25169s\n",
      "INFO:tensorflow:Finished evaluation at 2020-06-08-13:43:53\n",
      "INFO:tensorflow:Saving dict for global step 5000: accuracy = 0.53333336, average_loss = 0.63759416, global_step = 5000, loss = 0.63759416\n",
      "INFO:tensorflow:Saving 'checkpoint_path' summary for global step 5000: /tmp/tmpiqdd554i/model.ckpt-5000\n",
      "\n",
      "Test set accuracy: 0.533\n",
      "\n"
     ]
    }
   ],
   "source": [
    "eval_result = classifier.evaluate(\n",
    "    input_fn=lambda: input_fn(test, test_y, training=False))\n",
    "\n",
    "print('\\nTest set accuracy: {accuracy:0.3f}\\n'.format(**eval_result))"
   ]
  },
  {
   "cell_type": "code",
   "execution_count": 12,
   "metadata": {},
   "outputs": [],
   "source": [
    "# Generate predictions from the model\n",
    "expected = ['Setosa', 'Versicolor', 'Virginica']\n",
    "predict_x = {\n",
    "    'SepalLength': [5.1, 5.9, 6.9],\n",
    "    'SepalWidth': [3.3, 3.0, 3.1],\n",
    "    'PetalLength': [1.7, 4.2, 5.4],\n",
    "    'PetalWidth': [0.5, 1.5, 2.1],\n",
    "}\n",
    "\n",
    "def input_fn(features, batch_size=256):\n",
    "    \"\"\"An input function for prediction.\"\"\"\n",
    "    # Convert the inputs to a Dataset without labels.\n",
    "    return tf.data.Dataset.from_tensor_slices(dict(features)).batch(batch_size)\n",
    "\n",
    "predictions = classifier.predict(\n",
    "    input_fn=lambda: input_fn(predict_x))"
   ]
  },
  {
   "cell_type": "code",
   "execution_count": 13,
   "metadata": {},
   "outputs": [
    {
     "name": "stdout",
     "output_type": "stream",
     "text": [
      "INFO:tensorflow:Calling model_fn.\n",
      "INFO:tensorflow:Done calling model_fn.\n",
      "INFO:tensorflow:Graph was finalized.\n",
      "INFO:tensorflow:Restoring parameters from /tmp/tmpiqdd554i/model.ckpt-5000\n",
      "INFO:tensorflow:Running local_init_op.\n",
      "INFO:tensorflow:Done running local_init_op.\n",
      "Prediction is \"Setosa\" (80.3%), expected \"Setosa\"\n",
      "Prediction is \"Virginica\" (54.6%), expected \"Versicolor\"\n",
      "Prediction is \"Virginica\" (66.3%), expected \"Virginica\"\n"
     ]
    }
   ],
   "source": [
    "for pred_dict, expec in zip(predictions, expected):\n",
    "    class_id = pred_dict['class_ids'][0]\n",
    "    probability = pred_dict['probabilities'][class_id]\n",
    "\n",
    "    print('Prediction is \"{}\" ({:.1f}%), expected \"{}\"'.format(\n",
    "        SPECIES[class_id], 100 * probability, expec))"
   ]
  },
  {
   "cell_type": "code",
   "execution_count": null,
   "metadata": {},
   "outputs": [],
   "source": []
  }
 ],
 "metadata": {
  "kernelspec": {
   "display_name": "TensorFlow2.1",
   "language": "python",
   "name": "tensorflow2.1"
  },
  "language_info": {
   "codemirror_mode": {
    "name": "ipython",
    "version": 3
   },
   "file_extension": ".py",
   "mimetype": "text/x-python",
   "name": "python",
   "nbconvert_exporter": "python",
   "pygments_lexer": "ipython3",
   "version": "3.8.2"
  }
 },
 "nbformat": 4,
 "nbformat_minor": 4
}
