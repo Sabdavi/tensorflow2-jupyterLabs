{
 "cells": [
  {
   "cell_type": "code",
   "execution_count": 1,
   "metadata": {},
   "outputs": [],
   "source": [
    "import tensorflow as tf"
   ]
  },
  {
   "cell_type": "code",
   "execution_count": 7,
   "metadata": {},
   "outputs": [],
   "source": [
    "layer = tf.keras.layers.Dense(10, input_shape=(None, 5))"
   ]
  },
  {
   "cell_type": "code",
   "execution_count": 8,
   "metadata": {},
   "outputs": [
    {
     "data": {
      "text/plain": [
       "<tf.Tensor: shape=(10, 10), dtype=float32, numpy=\n",
       "array([[0., 0., 0., 0., 0., 0., 0., 0., 0., 0.],\n",
       "       [0., 0., 0., 0., 0., 0., 0., 0., 0., 0.],\n",
       "       [0., 0., 0., 0., 0., 0., 0., 0., 0., 0.],\n",
       "       [0., 0., 0., 0., 0., 0., 0., 0., 0., 0.],\n",
       "       [0., 0., 0., 0., 0., 0., 0., 0., 0., 0.],\n",
       "       [0., 0., 0., 0., 0., 0., 0., 0., 0., 0.],\n",
       "       [0., 0., 0., 0., 0., 0., 0., 0., 0., 0.],\n",
       "       [0., 0., 0., 0., 0., 0., 0., 0., 0., 0.],\n",
       "       [0., 0., 0., 0., 0., 0., 0., 0., 0., 0.],\n",
       "       [0., 0., 0., 0., 0., 0., 0., 0., 0., 0.]], dtype=float32)>"
      ]
     },
     "execution_count": 8,
     "metadata": {},
     "output_type": "execute_result"
    }
   ],
   "source": [
    "layer(tf.zeros([10,5]))"
   ]
  },
  {
   "cell_type": "code",
   "execution_count": 9,
   "metadata": {},
   "outputs": [
    {
     "data": {
      "text/plain": [
       "[<tf.Variable 'dense_1/kernel:0' shape=(5, 10) dtype=float32, numpy=\n",
       " array([[-0.2328608 , -0.06497598,  0.31680185, -0.1346716 ,  0.48235732,\n",
       "          0.3016917 ,  0.5491534 , -0.499542  , -0.5463744 ,  0.42063135],\n",
       "        [ 0.0981921 ,  0.22347933, -0.4429837 , -0.4704095 , -0.4112922 ,\n",
       "         -0.22809589, -0.35945857,  0.58214575, -0.11086696, -0.00499189],\n",
       "        [-0.62725645,  0.05996299, -0.38199446, -0.4293489 , -0.23272285,\n",
       "         -0.5825742 ,  0.27517027,  0.22011882, -0.0198155 , -0.3547295 ],\n",
       "        [-0.42266923,  0.06271261, -0.25243703, -0.47594196,  0.50330025,\n",
       "          0.3277939 ,  0.59013206, -0.5021075 , -0.01775664, -0.02961332],\n",
       "        [ 0.511972  ,  0.41302472,  0.08299494,  0.54267126, -0.06407893,\n",
       "          0.30245817, -0.01253784,  0.07134664,  0.2311536 , -0.2628653 ]],\n",
       "       dtype=float32)>,\n",
       " <tf.Variable 'dense_1/bias:0' shape=(10,) dtype=float32, numpy=array([0., 0., 0., 0., 0., 0., 0., 0., 0., 0.], dtype=float32)>]"
      ]
     },
     "execution_count": 9,
     "metadata": {},
     "output_type": "execute_result"
    }
   ],
   "source": [
    "layer.variables"
   ]
  },
  {
   "cell_type": "code",
   "execution_count": 10,
   "metadata": {},
   "outputs": [
    {
     "data": {
      "text/plain": [
       "<tf.Variable 'dense_1/kernel:0' shape=(5, 10) dtype=float32, numpy=\n",
       "array([[-0.2328608 , -0.06497598,  0.31680185, -0.1346716 ,  0.48235732,\n",
       "         0.3016917 ,  0.5491534 , -0.499542  , -0.5463744 ,  0.42063135],\n",
       "       [ 0.0981921 ,  0.22347933, -0.4429837 , -0.4704095 , -0.4112922 ,\n",
       "        -0.22809589, -0.35945857,  0.58214575, -0.11086696, -0.00499189],\n",
       "       [-0.62725645,  0.05996299, -0.38199446, -0.4293489 , -0.23272285,\n",
       "        -0.5825742 ,  0.27517027,  0.22011882, -0.0198155 , -0.3547295 ],\n",
       "       [-0.42266923,  0.06271261, -0.25243703, -0.47594196,  0.50330025,\n",
       "         0.3277939 ,  0.59013206, -0.5021075 , -0.01775664, -0.02961332],\n",
       "       [ 0.511972  ,  0.41302472,  0.08299494,  0.54267126, -0.06407893,\n",
       "         0.30245817, -0.01253784,  0.07134664,  0.2311536 , -0.2628653 ]],\n",
       "      dtype=float32)>"
      ]
     },
     "execution_count": 10,
     "metadata": {},
     "output_type": "execute_result"
    }
   ],
   "source": [
    "layer.kernel"
   ]
  },
  {
   "cell_type": "code",
   "execution_count": 11,
   "metadata": {},
   "outputs": [
    {
     "data": {
      "text/plain": [
       "<tf.Variable 'dense_1/bias:0' shape=(10,) dtype=float32, numpy=array([0., 0., 0., 0., 0., 0., 0., 0., 0., 0.], dtype=float32)>"
      ]
     },
     "execution_count": 11,
     "metadata": {},
     "output_type": "execute_result"
    }
   ],
   "source": [
    "layer.bias"
   ]
  },
  {
   "cell_type": "code",
   "execution_count": 31,
   "metadata": {},
   "outputs": [],
   "source": [
    "class MyDenseLayer1(tf.keras.layers.Layer):\n",
    "    \n",
    "    def __init__(self,num_output):\n",
    "        super(MyDenseLayer1,self).__init__()\n",
    "        self.num_output = num_output\n",
    "        \n",
    "    def build(self,input_shape):\n",
    "        self.kernel = self.add_weight('kernel',shape=[input_shape[-1],self.num_output])\n",
    "        self.bias = self.add_weight('bias',shape=(self.num_output,))\n",
    "    \n",
    "    def call(self,input):\n",
    "        return tf.matmul(input,self.kernel) + self.bias"
   ]
  },
  {
   "cell_type": "code",
   "execution_count": 45,
   "metadata": {},
   "outputs": [],
   "source": [
    "class MyDenseLayer2(tf.keras.layers.Layer):\n",
    "    \n",
    "    def __init__(self,num_output):\n",
    "        super(MyDenseLayer2,self).__init__()\n",
    "        self.num_output = num_output\n",
    "        \n",
    "    def build(self,input_shape):\n",
    "        self.kernel = self.add_weight('kernel',shape=[input_shape[-1],self.num_output])\n",
    "        self.bias = self.add_weight('bias',shape=(self.num_output,))\n",
    "        \n",
    "    def call(self,input):\n",
    "        return tf.matmul(input,self.kernel)+ self.bias"
   ]
  },
  {
   "cell_type": "code",
   "execution_count": 46,
   "metadata": {},
   "outputs": [],
   "source": [
    "class MyModel(tf.keras.Model):\n",
    "    \n",
    "    def __init__(self):\n",
    "        super(MyModel,self).__init__()\n",
    "        self.dense1 = MyDenseLayer1(10)\n",
    "        self.dense2 = MyDenseLayer2(15)\n",
    "        \n",
    "    def call(self,input):\n",
    "        x = self.dense1(input)\n",
    "        x =self.dense2(x)\n",
    "        return x"
   ]
  },
  {
   "cell_type": "code",
   "execution_count": 47,
   "metadata": {},
   "outputs": [],
   "source": [
    "model = MyModel()"
   ]
  },
  {
   "cell_type": "code",
   "execution_count": 48,
   "metadata": {},
   "outputs": [
    {
     "data": {
      "text/plain": [
       "<tf.Tensor: shape=(10, 15), dtype=float32, numpy=\n",
       "array([[-0.41919643,  0.7963176 ,  0.4702506 , -0.01909292,  0.0414294 ,\n",
       "         0.9575258 , -0.48917586, -0.01930887, -0.1490544 , -0.26911145,\n",
       "        -0.6199968 , -0.24243933,  0.8204367 ,  0.61163855,  0.12772328],\n",
       "       [-0.41919643,  0.7963176 ,  0.4702506 , -0.01909292,  0.0414294 ,\n",
       "         0.9575258 , -0.48917586, -0.01930887, -0.1490544 , -0.26911145,\n",
       "        -0.6199968 , -0.24243933,  0.8204367 ,  0.61163855,  0.12772328],\n",
       "       [-0.41919643,  0.7963176 ,  0.4702506 , -0.01909292,  0.0414294 ,\n",
       "         0.9575258 , -0.48917586, -0.01930887, -0.1490544 , -0.26911145,\n",
       "        -0.6199968 , -0.24243933,  0.8204367 ,  0.61163855,  0.12772328],\n",
       "       [-0.41919643,  0.7963176 ,  0.4702506 , -0.01909292,  0.0414294 ,\n",
       "         0.9575258 , -0.48917586, -0.01930887, -0.1490544 , -0.26911145,\n",
       "        -0.6199968 , -0.24243933,  0.8204367 ,  0.61163855,  0.12772328],\n",
       "       [-0.41919643,  0.7963176 ,  0.4702506 , -0.01909292,  0.0414294 ,\n",
       "         0.9575258 , -0.48917586, -0.01930887, -0.1490544 , -0.26911145,\n",
       "        -0.6199968 , -0.24243933,  0.8204367 ,  0.61163855,  0.12772328],\n",
       "       [-0.41919643,  0.7963176 ,  0.4702506 , -0.01909292,  0.0414294 ,\n",
       "         0.9575258 , -0.48917586, -0.01930887, -0.1490544 , -0.26911145,\n",
       "        -0.6199968 , -0.24243933,  0.8204367 ,  0.61163855,  0.12772328],\n",
       "       [-0.41919643,  0.7963176 ,  0.4702506 , -0.01909292,  0.0414294 ,\n",
       "         0.9575258 , -0.48917586, -0.01930887, -0.1490544 , -0.26911145,\n",
       "        -0.6199968 , -0.24243933,  0.8204367 ,  0.61163855,  0.12772328],\n",
       "       [-0.41919643,  0.7963176 ,  0.4702506 , -0.01909292,  0.0414294 ,\n",
       "         0.9575258 , -0.48917586, -0.01930887, -0.1490544 , -0.26911145,\n",
       "        -0.6199968 , -0.24243933,  0.8204367 ,  0.61163855,  0.12772328],\n",
       "       [-0.41919643,  0.7963176 ,  0.4702506 , -0.01909292,  0.0414294 ,\n",
       "         0.9575258 , -0.48917586, -0.01930887, -0.1490544 , -0.26911145,\n",
       "        -0.6199968 , -0.24243933,  0.8204367 ,  0.61163855,  0.12772328],\n",
       "       [-0.41919643,  0.7963176 ,  0.4702506 , -0.01909292,  0.0414294 ,\n",
       "         0.9575258 , -0.48917586, -0.01930887, -0.1490544 , -0.26911145,\n",
       "        -0.6199968 , -0.24243933,  0.8204367 ,  0.61163855,  0.12772328]],\n",
       "      dtype=float32)>"
      ]
     },
     "execution_count": 48,
     "metadata": {},
     "output_type": "execute_result"
    }
   ],
   "source": [
    "model(tf.zeros([10,15]))"
   ]
  },
  {
   "cell_type": "code",
   "execution_count": 49,
   "metadata": {},
   "outputs": [
    {
     "name": "stdout",
     "output_type": "stream",
     "text": [
      "Model: \"my_model_4\"\n",
      "_________________________________________________________________\n",
      "Layer (type)                 Output Shape              Param #   \n",
      "=================================================================\n",
      "my_dense_layer1_3 (MyDenseLa multiple                  160       \n",
      "_________________________________________________________________\n",
      "my_dense_layer2_3 (MyDenseLa multiple                  165       \n",
      "=================================================================\n",
      "Total params: 325\n",
      "Trainable params: 325\n",
      "Non-trainable params: 0\n",
      "_________________________________________________________________\n"
     ]
    }
   ],
   "source": [
    "model.summary()"
   ]
  },
  {
   "cell_type": "code",
   "execution_count": 21,
   "metadata": {},
   "outputs": [
    {
     "data": {
      "text/plain": [
       "<tf.Tensor: shape=(10, 10), dtype=float32, numpy=\n",
       "array([[-0.38094074, -0.01098889,  0.2774071 ,  0.38506562,  0.4055807 ,\n",
       "        -0.3543469 ,  0.53414595,  0.06991172,  0.01898593,  0.3733073 ],\n",
       "       [-0.38094074, -0.01098889,  0.2774071 ,  0.38506562,  0.4055807 ,\n",
       "        -0.3543469 ,  0.53414595,  0.06991172,  0.01898593,  0.3733073 ],\n",
       "       [-0.38094074, -0.01098889,  0.2774071 ,  0.38506562,  0.4055807 ,\n",
       "        -0.3543469 ,  0.53414595,  0.06991172,  0.01898593,  0.3733073 ],\n",
       "       [-0.38094074, -0.01098889,  0.2774071 ,  0.38506562,  0.4055807 ,\n",
       "        -0.3543469 ,  0.53414595,  0.06991172,  0.01898593,  0.3733073 ],\n",
       "       [-0.38094074, -0.01098889,  0.2774071 ,  0.38506562,  0.4055807 ,\n",
       "        -0.3543469 ,  0.53414595,  0.06991172,  0.01898593,  0.3733073 ],\n",
       "       [-0.38094074, -0.01098889,  0.2774071 ,  0.38506562,  0.4055807 ,\n",
       "        -0.3543469 ,  0.53414595,  0.06991172,  0.01898593,  0.3733073 ],\n",
       "       [-0.38094074, -0.01098889,  0.2774071 ,  0.38506562,  0.4055807 ,\n",
       "        -0.3543469 ,  0.53414595,  0.06991172,  0.01898593,  0.3733073 ],\n",
       "       [-0.38094074, -0.01098889,  0.2774071 ,  0.38506562,  0.4055807 ,\n",
       "        -0.3543469 ,  0.53414595,  0.06991172,  0.01898593,  0.3733073 ],\n",
       "       [-0.38094074, -0.01098889,  0.2774071 ,  0.38506562,  0.4055807 ,\n",
       "        -0.3543469 ,  0.53414595,  0.06991172,  0.01898593,  0.3733073 ],\n",
       "       [-0.38094074, -0.01098889,  0.2774071 ,  0.38506562,  0.4055807 ,\n",
       "        -0.3543469 ,  0.53414595,  0.06991172,  0.01898593,  0.3733073 ]],\n",
       "      dtype=float32)>"
      ]
     },
     "execution_count": 21,
     "metadata": {},
     "output_type": "execute_result"
    }
   ],
   "source": [
    "layer(tf.zeros([10,7]))"
   ]
  },
  {
   "cell_type": "code",
   "execution_count": 22,
   "metadata": {},
   "outputs": [
    {
     "data": {
      "text/plain": [
       "<tf.Variable 'my_dense_layer_1/kernel:0' shape=(7, 10) dtype=float32, numpy=\n",
       "array([[ 0.26578254, -0.41127   , -0.30584094, -0.09533963, -0.2502443 ,\n",
       "         0.10253191, -0.05950624, -0.22703403, -0.5386928 ,  0.02775836],\n",
       "       [-0.25580204, -0.18040994,  0.25662947,  0.21409786, -0.4802719 ,\n",
       "        -0.26723918, -0.5059904 , -0.26584342, -0.5680901 , -0.36377695],\n",
       "       [ 0.11307514,  0.20810956, -0.54478675,  0.33807522,  0.58198977,\n",
       "         0.21009946, -0.07105291,  0.01974785,  0.2801807 ,  0.40807283],\n",
       "       [-0.5007649 , -0.56306815, -0.2423816 , -0.36074808, -0.06820971,\n",
       "        -0.53173345, -0.44063103,  0.41579926,  0.18247747,  0.27499563],\n",
       "       [ 0.23394346,  0.33765256,  0.1709891 , -0.33936852, -0.10172936,\n",
       "        -0.01818734,  0.0610112 ,  0.26814085,  0.03028369,  0.39274526],\n",
       "       [-0.10390896, -0.5854327 ,  0.40704727, -0.32967272,  0.5514188 ,\n",
       "        -0.49639186,  0.2672311 ,  0.1551674 , -0.29433593,  0.58263004],\n",
       "       [-0.13603118,  0.09059179, -0.35874766, -0.12377703, -0.33188036,\n",
       "        -0.47213614, -0.14136398,  0.4823054 , -0.40573847,  0.08509904]],\n",
       "      dtype=float32)>"
      ]
     },
     "execution_count": 22,
     "metadata": {},
     "output_type": "execute_result"
    }
   ],
   "source": [
    "layer.kernel"
   ]
  },
  {
   "cell_type": "code",
   "execution_count": 24,
   "metadata": {},
   "outputs": [
    {
     "data": {
      "text/plain": [
       "<tf.Variable 'my_dense_layer_1/bias:0' shape=(10,) dtype=float32, numpy=\n",
       "array([-0.38094074, -0.01098889,  0.2774071 ,  0.38506562,  0.4055807 ,\n",
       "       -0.3543469 ,  0.53414595,  0.06991172,  0.01898593,  0.3733073 ],\n",
       "      dtype=float32)>"
      ]
     },
     "execution_count": 24,
     "metadata": {},
     "output_type": "execute_result"
    }
   ],
   "source": [
    "layer.bias"
   ]
  },
  {
   "cell_type": "code",
   "execution_count": 23,
   "metadata": {},
   "outputs": [
    {
     "name": "stdout",
     "output_type": "stream",
     "text": [
      "['my_dense_layer_1/kernel:0', 'my_dense_layer_1/bias:0']\n"
     ]
    }
   ],
   "source": [
    "print([v.name for v in layer.trainable_variables])"
   ]
  },
  {
   "cell_type": "code",
   "execution_count": 50,
   "metadata": {},
   "outputs": [],
   "source": [
    "class Model(object):\n",
    "  def __init__(self):\n",
    "    # Initialize the weights to `5.0` and the bias to `0.0`\n",
    "    # In practice, these should be initialized to random values (for example, with `tf.random.normal`)\n",
    "    self.W = tf.Variable(5.0)\n",
    "    self.b = tf.Variable(0.0)\n",
    "\n",
    "  def __call__(self, x):\n",
    "    return self.W * x + self.b\n",
    "\n",
    "model = Model()\n",
    "\n",
    "assert model(3.0).numpy() == 15.0"
   ]
  },
  {
   "cell_type": "code",
   "execution_count": 51,
   "metadata": {},
   "outputs": [],
   "source": [
    "def loss(target_y, predicted_y):\n",
    "  return tf.reduce_mean(tf.square(target_y - predicted_y))"
   ]
  },
  {
   "cell_type": "code",
   "execution_count": 52,
   "metadata": {},
   "outputs": [],
   "source": [
    "TRUE_W = 3.0\n",
    "TRUE_b = 2.0\n",
    "NUM_EXAMPLES = 1000\n",
    "\n",
    "inputs  = tf.random.normal(shape=[NUM_EXAMPLES])\n",
    "noise   = tf.random.normal(shape=[NUM_EXAMPLES])\n",
    "outputs = inputs * TRUE_W + TRUE_b + noise"
   ]
  },
  {
   "cell_type": "code",
   "execution_count": 53,
   "metadata": {},
   "outputs": [
    {
     "data": {
      "image/png": "[encoded data removed]",
      "text/plain": [
       "<Figure size 432x288 with 1 Axes>"
      ]
     },
     "metadata": {
      "needs_background": "light"
     },
     "output_type": "display_data"
    },
    {
     "name": "stdout",
     "output_type": "stream",
     "text": [
      "Current loss: 8.789408\n"
     ]
    }
   ],
   "source": [
    "import matplotlib.pyplot as plt\n",
    "\n",
    "plt.scatter(inputs, outputs, c='b')\n",
    "plt.scatter(inputs, model(inputs), c='r')\n",
    "plt.show()\n",
    "\n",
    "print('Current loss: %1.6f' % loss(model(inputs), outputs).numpy())"
   ]
  },
  {
   "cell_type": "code",
   "execution_count": 54,
   "metadata": {},
   "outputs": [],
   "source": [
    "def train(model, inputs, outputs, learning_rate):\n",
    "  with tf.GradientTape() as t:\n",
    "    current_loss = loss(outputs, model(inputs))\n",
    "  dW, db = t.gradient(current_loss, [model.W, model.b])\n",
    "  model.W.assign_sub(learning_rate * dW)\n",
    "  model.b.assign_sub(learning_rate * db)"
   ]
  },
  {
   "cell_type": "code",
   "execution_count": 55,
   "metadata": {},
   "outputs": [
    {
     "name": "stdout",
     "output_type": "stream",
     "text": [
      "Epoch  0: W=5.00 b=0.00, loss=8.78941\n",
      "Epoch  1: W=4.61 b=0.40, loss=5.94857\n",
      "Epoch  2: W=4.29 b=0.72, loss=4.13852\n",
      "Epoch  3: W=4.04 b=0.98, loss=2.98524\n",
      "Epoch  4: W=3.84 b=1.18, loss=2.25040\n",
      "Epoch  5: W=3.68 b=1.34, loss=1.78218\n",
      "Epoch  6: W=3.55 b=1.47, loss=1.48385\n",
      "Epoch  7: W=3.45 b=1.57, loss=1.29375\n",
      "Epoch  8: W=3.37 b=1.66, loss=1.17262\n",
      "Epoch  9: W=3.30 b=1.72, loss=1.09544\n"
     ]
    },
    {
     "data": {
      "image/png": "[encoded data removed]",
      "text/plain": [
       "<Figure size 432x288 with 1 Axes>"
      ]
     },
     "metadata": {
      "needs_background": "light"
     },
     "output_type": "display_data"
    }
   ],
   "source": [
    "model = Model()\n",
    "\n",
    "# Collect the history of W-values and b-values to plot later\n",
    "Ws, bs = [], []\n",
    "epochs = range(10)\n",
    "for epoch in epochs:\n",
    "  Ws.append(model.W.numpy())\n",
    "  bs.append(model.b.numpy())\n",
    "  current_loss = loss(outputs, model(inputs))\n",
    "\n",
    "  train(model, inputs, outputs, learning_rate=0.1)\n",
    "  print('Epoch %2d: W=%1.2f b=%1.2f, loss=%2.5f' %\n",
    "        (epoch, Ws[-1], bs[-1], current_loss))\n",
    "\n",
    "# Let's plot it all\n",
    "plt.plot(epochs, Ws, 'r',\n",
    "         epochs, bs, 'b')\n",
    "plt.plot([TRUE_W] * len(epochs), 'r--',\n",
    "         [TRUE_b] * len(epochs), 'b--')\n",
    "plt.legend(['W', 'b', 'True W', 'True b'])\n",
    "plt.show()\n"
   ]
  },
  {
   "cell_type": "code",
   "execution_count": null,
   "metadata": {},
   "outputs": [],
   "source": []
  }
 ],
 "metadata": {
  "kernelspec": {
   "display_name": "TensorFlow2.1",
   "language": "python",
   "name": "tensorflow2.1"
  },
  "language_info": {
   "codemirror_mode": {
    "name": "ipython",
    "version": 3
   },
   "file_extension": ".py",
   "mimetype": "text/x-python",
   "name": "python",
   "nbconvert_exporter": "python",
   "pygments_lexer": "ipython3",
   "version": "3.8.2"
  }
 },
 "nbformat": 4,
 "nbformat_minor": 4
}
